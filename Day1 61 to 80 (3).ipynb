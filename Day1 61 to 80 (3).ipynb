{
 "cells": [
  {
   "cell_type": "code",
   "execution_count": 3,
   "id": "7f42a389",
   "metadata": {},
   "outputs": [
    {
     "name": "stdout",
     "output_type": "stream",
     "text": [
      "Collecting pandasqlNote: you may need to restart the kernel to use updated packages.\n",
      "\n",
      "  Downloading pandasql-0.7.3.tar.gz (26 kB)\n",
      "  Preparing metadata (setup.py): started\n",
      "  Preparing metadata (setup.py): finished with status 'done'\n",
      "Requirement already satisfied: numpy in c:\\users\\kpnar\\anaconda3\\lib\\site-packages (from pandasql) (1.21.5)\n",
      "Requirement already satisfied: pandas in c:\\users\\kpnar\\anaconda3\\lib\\site-packages (from pandasql) (1.4.4)\n",
      "Requirement already satisfied: sqlalchemy in c:\\users\\kpnar\\anaconda3\\lib\\site-packages (from pandasql) (1.4.39)\n",
      "Requirement already satisfied: python-dateutil>=2.8.1 in c:\\users\\kpnar\\anaconda3\\lib\\site-packages (from pandas->pandasql) (2.8.2)\n",
      "Requirement already satisfied: pytz>=2020.1 in c:\\users\\kpnar\\anaconda3\\lib\\site-packages (from pandas->pandasql) (2022.1)\n",
      "Requirement already satisfied: greenlet!=0.4.17 in c:\\users\\kpnar\\anaconda3\\lib\\site-packages (from sqlalchemy->pandasql) (1.1.1)\n",
      "Requirement already satisfied: six>=1.5 in c:\\users\\kpnar\\anaconda3\\lib\\site-packages (from python-dateutil>=2.8.1->pandas->pandasql) (1.16.0)\n",
      "Building wheels for collected packages: pandasql\n",
      "  Building wheel for pandasql (setup.py): started\n",
      "  Building wheel for pandasql (setup.py): finished with status 'done'\n",
      "  Created wheel for pandasql: filename=pandasql-0.7.3-py3-none-any.whl size=26768 sha256=11cedf5ec4cdf00bd471aaecee152090db3e7d758753e36b1b650f0bdf568fe4\n",
      "  Stored in directory: c:\\users\\kpnar\\appdata\\local\\pip\\cache\\wheels\\63\\e8\\ec\\75b1df467ecf57b6ececb32cb16f4e86697cbfe55cb0c51f07\n",
      "Successfully built pandasql\n",
      "Installing collected packages: pandasql\n",
      "Successfully installed pandasql-0.7.3\n"
     ]
    }
   ],
   "source": [
    "pip install pandasql"
   ]
  },
  {
   "cell_type": "code",
   "execution_count": 4,
   "id": "5e6c09dc",
   "metadata": {},
   "outputs": [
    {
     "name": "stdout",
     "output_type": "stream",
     "text": [
      "Requirement already satisfied: xlrd in c:\\users\\kpnar\\anaconda3\\lib\\site-packages (2.0.1)\n",
      "Note: you may need to restart the kernel to use updated packages.\n"
     ]
    }
   ],
   "source": [
    "pip install xlrd"
   ]
  },
  {
   "cell_type": "code",
   "execution_count": 3,
   "id": "90a0c87b",
   "metadata": {},
   "outputs": [],
   "source": [
    "import pandas as pd\n",
    "import seaborn as sns\n",
    "import matplotlib.pyplot as plt\n",
    "import numpy as np\n",
    "from datetime import datetime, date\n",
    "from pandasql import sqldf\n",
    "import pandasql as ps\n",
    "import seaborn \n",
    "mysql = lambda q: sqldf(q, globals())\n",
    "import re"
   ]
  },
  {
   "cell_type": "code",
   "execution_count": 2,
   "id": "7671f4d4",
   "metadata": {},
   "outputs": [
    {
     "ename": "IndentationError",
     "evalue": "unexpected indent (1581504745.py, line 13)",
     "output_type": "error",
     "traceback": [
      "\u001b[1;36m  File \u001b[1;32m\"C:\\Users\\kpnar\\AppData\\Local\\Temp\\ipykernel_8384\\1581504745.py\"\u001b[1;36m, line \u001b[1;32m13\u001b[0m\n\u001b[1;33m    df_AV = pd.read_excel(xls,'AmbulatoryVisits')\u001b[0m\n\u001b[1;37m    ^\u001b[0m\n\u001b[1;31mIndentationError\u001b[0m\u001b[1;31m:\u001b[0m unexpected indent\n"
     ]
    }
   ],
   "source": [
    "#Reading the dataset\n",
    "xls=pd.ExcelFile(\"HospitalDatabase.xlsx\")\n",
    "\n",
    "#Reading the patients Sheet\n",
    "\n",
    "df_PA=pd.read_excel(xls,'Patients')\n",
    "\n",
    "# Reading the EDVisit Sheet\n",
    "\n",
    "df_EDV=pd.read_excel(xls,'EDVisits')\n",
    "\n",
    "# Reading the AmbulatoryVisits sheet\n",
    " df_AV = pd.read_excel(xls,'AmbulatoryVisits')\n",
    "\n",
    "    \n",
    "#Reading the ReAdmissionRegistry \n",
    " df_RE=pd.read_excel(xls,'ReAdmissionRegistry')\n",
    "\n",
    "#Reading the Discharges sheet\n",
    "  df_D=pd.read_excel(xls,'Discharges')\n",
    "\n",
    "#Reading the Providers sheet\n",
    "df_P=pd.read_excel(xls,'Providers')\n",
    "\n",
    "#Reading the EDUnique sheet\n",
    "df_E=pd.read_excel(xls,' EDUnique')\n",
    "\n",
    "    \n",
    "    \n",
    "    \n"
   ]
  },
  {
   "cell_type": "markdown",
   "id": "0abb74d6",
   "metadata": {},
   "source": [
    "# 61.np.arange(1,31).reshape(6,5) Find the array slicing to get the elements with values 11,12,16,17."
   ]
  },
  {
   "cell_type": "code",
   "execution_count": 86,
   "id": "46e0ec65",
   "metadata": {},
   "outputs": [
    {
     "name": "stdout",
     "output_type": "stream",
     "text": [
      "[[ 1  2  3  4  5]\n",
      " [ 6  7  8  9 10]\n",
      " [11 12 13 14 15]\n",
      " [16 17 18 19 20]\n",
      " [21 22 23 24 25]\n",
      " [26 27 28 29 30]]\n"
     ]
    },
    {
     "data": {
      "text/plain": [
       "array([[11, 12],\n",
       "       [16, 17]])"
      ]
     },
     "execution_count": 86,
     "metadata": {},
     "output_type": "execute_result"
    }
   ],
   "source": [
    "A = np.arange(1,31)\n",
    "B = A.reshape(6, 5)\n",
    "print(B)\n",
    "B[2:4,0:2]"
   ]
  },
  {
   "cell_type": "markdown",
   "id": "73779226",
   "metadata": {},
   "source": [
    "# 80.Display the data for all 'White Female' patients above the age of 50.   "
   ]
  },
  {
   "cell_type": "code",
   "execution_count": 17,
   "id": "71a28338",
   "metadata": {},
   "outputs": [
    {
     "data": {
      "text/html": [
       "<div>\n",
       "<style scoped>\n",
       "    .dataframe tbody tr th:only-of-type {\n",
       "        vertical-align: middle;\n",
       "    }\n",
       "\n",
       "    .dataframe tbody tr th {\n",
       "        vertical-align: top;\n",
       "    }\n",
       "\n",
       "    .dataframe thead th {\n",
       "        text-align: right;\n",
       "    }\n",
       "</style>\n",
       "<table border=\"1\" class=\"dataframe\">\n",
       "  <thead>\n",
       "    <tr style=\"text-align: right;\">\n",
       "      <th></th>\n",
       "      <th>PatientID</th>\n",
       "      <th>FirstName</th>\n",
       "      <th>LastName</th>\n",
       "      <th>DateOfBirth</th>\n",
       "      <th>Gender</th>\n",
       "      <th>Race</th>\n",
       "      <th>Language</th>\n",
       "    </tr>\n",
       "  </thead>\n",
       "  <tbody>\n",
       "    <tr>\n",
       "      <th>25</th>\n",
       "      <td>26</td>\n",
       "      <td>Sally</td>\n",
       "      <td>Bing</td>\n",
       "      <td>1972-08-03 00:05:39.560</td>\n",
       "      <td>Female</td>\n",
       "      <td>White</td>\n",
       "      <td>Spanish</td>\n",
       "    </tr>\n",
       "    <tr>\n",
       "      <th>28</th>\n",
       "      <td>29</td>\n",
       "      <td>Ted</td>\n",
       "      <td>Scott</td>\n",
       "      <td>1967-12-09 05:01:37.892</td>\n",
       "      <td>Female</td>\n",
       "      <td>White</td>\n",
       "      <td>Spanish</td>\n",
       "    </tr>\n",
       "    <tr>\n",
       "      <th>30</th>\n",
       "      <td>31</td>\n",
       "      <td>Harry</td>\n",
       "      <td>Ding</td>\n",
       "      <td>1960-10-08 01:42:51.212</td>\n",
       "      <td>Female</td>\n",
       "      <td>White</td>\n",
       "      <td>Spanish</td>\n",
       "    </tr>\n",
       "    <tr>\n",
       "      <th>33</th>\n",
       "      <td>34</td>\n",
       "      <td>Ted</td>\n",
       "      <td>Hue</td>\n",
       "      <td>1960-11-28 18:05:11.459</td>\n",
       "      <td>Female</td>\n",
       "      <td>White</td>\n",
       "      <td>Spanish</td>\n",
       "    </tr>\n",
       "    <tr>\n",
       "      <th>34</th>\n",
       "      <td>35</td>\n",
       "      <td>Fred</td>\n",
       "      <td>Tye</td>\n",
       "      <td>1966-04-14 06:01:07.169</td>\n",
       "      <td>Female</td>\n",
       "      <td>White</td>\n",
       "      <td>Spanish</td>\n",
       "    </tr>\n",
       "    <tr>\n",
       "      <th>...</th>\n",
       "      <td>...</td>\n",
       "      <td>...</td>\n",
       "      <td>...</td>\n",
       "      <td>...</td>\n",
       "      <td>...</td>\n",
       "      <td>...</td>\n",
       "      <td>...</td>\n",
       "    </tr>\n",
       "    <tr>\n",
       "      <th>865</th>\n",
       "      <td>866</td>\n",
       "      <td>Jermayne</td>\n",
       "      <td>Lowndes</td>\n",
       "      <td>1970-12-09 04:49:48.933</td>\n",
       "      <td>Female</td>\n",
       "      <td>White</td>\n",
       "      <td>English</td>\n",
       "    </tr>\n",
       "    <tr>\n",
       "      <th>866</th>\n",
       "      <td>867</td>\n",
       "      <td>Gail</td>\n",
       "      <td>Inc</td>\n",
       "      <td>1967-03-10 08:18:47.908</td>\n",
       "      <td>Female</td>\n",
       "      <td>White</td>\n",
       "      <td>English</td>\n",
       "    </tr>\n",
       "    <tr>\n",
       "      <th>867</th>\n",
       "      <td>868</td>\n",
       "      <td>Des</td>\n",
       "      <td>Heindrick</td>\n",
       "      <td>1969-08-15 11:05:30.165</td>\n",
       "      <td>Female</td>\n",
       "      <td>White</td>\n",
       "      <td>English</td>\n",
       "    </tr>\n",
       "    <tr>\n",
       "      <th>869</th>\n",
       "      <td>870</td>\n",
       "      <td>Hauck</td>\n",
       "      <td>Rubbens</td>\n",
       "      <td>1963-11-16 03:31:38.929</td>\n",
       "      <td>Female</td>\n",
       "      <td>White</td>\n",
       "      <td>English</td>\n",
       "    </tr>\n",
       "    <tr>\n",
       "      <th>873</th>\n",
       "      <td>874</td>\n",
       "      <td>Schroeder</td>\n",
       "      <td>McGarvey</td>\n",
       "      <td>1971-12-09 11:56:22.068</td>\n",
       "      <td>Female</td>\n",
       "      <td>White</td>\n",
       "      <td>English</td>\n",
       "    </tr>\n",
       "  </tbody>\n",
       "</table>\n",
       "<p>122 rows × 7 columns</p>\n",
       "</div>"
      ],
      "text/plain": [
       "     PatientID  FirstName   LastName             DateOfBirth  Gender   Race  \\\n",
       "25          26      Sally       Bing 1972-08-03 00:05:39.560  Female  White   \n",
       "28          29        Ted      Scott 1967-12-09 05:01:37.892  Female  White   \n",
       "30          31      Harry       Ding 1960-10-08 01:42:51.212  Female  White   \n",
       "33          34        Ted        Hue 1960-11-28 18:05:11.459  Female  White   \n",
       "34          35       Fred        Tye 1966-04-14 06:01:07.169  Female  White   \n",
       "..         ...        ...        ...                     ...     ...    ...   \n",
       "865        866   Jermayne    Lowndes 1970-12-09 04:49:48.933  Female  White   \n",
       "866        867       Gail        Inc 1967-03-10 08:18:47.908  Female  White   \n",
       "867        868        Des  Heindrick 1969-08-15 11:05:30.165  Female  White   \n",
       "869        870      Hauck    Rubbens 1963-11-16 03:31:38.929  Female  White   \n",
       "873        874  Schroeder   McGarvey 1971-12-09 11:56:22.068  Female  White   \n",
       "\n",
       "    Language  \n",
       "25   Spanish  \n",
       "28   Spanish  \n",
       "30   Spanish  \n",
       "33   Spanish  \n",
       "34   Spanish  \n",
       "..       ...  \n",
       "865  English  \n",
       "866  English  \n",
       "867  English  \n",
       "869  English  \n",
       "873  English  \n",
       "\n",
       "[122 rows x 7 columns]"
      ]
     },
     "execution_count": 17,
     "metadata": {},
     "output_type": "execute_result"
    }
   ],
   "source": [
    "#xls=pd.ExcelFile(\"HospitalDatabase.xlsx\")\n",
    "#df_PA=pd.read_excel(xls,'Patients')\n",
    "\n",
    "df_PA[(df_PA.Race == 'White') \n",
    "      & (df_PA.Gender == 'Female') \n",
    "      & (df_PA.DateOfBirth.dt.year < (datetime.today().year-50))]"
   ]
  },
  {
   "cell_type": "markdown",
   "id": "14406bda",
   "metadata": {},
   "source": [
    "# #63.List male patients over the age of 60 who have undergone surgery from January-March 2019.\n"
   ]
  },
  {
   "cell_type": "code",
   "execution_count": 62,
   "id": "c128b222",
   "metadata": {},
   "outputs": [
    {
     "ename": "NameError",
     "evalue": "name 'df_AV' is not defined",
     "output_type": "error",
     "traceback": [
      "\u001b[1;31m---------------------------------------------------------------------------\u001b[0m",
      "\u001b[1;31mNameError\u001b[0m                                 Traceback (most recent call last)",
      "\u001b[1;32m~\\AppData\\Local\\Temp\\ipykernel_5160\\651311924.py\u001b[0m in \u001b[0;36m<module>\u001b[1;34m\u001b[0m\n\u001b[1;32m----> 1\u001b[1;33m \u001b[0mPva\u001b[0m \u001b[1;33m=\u001b[0m \u001b[0mpd\u001b[0m\u001b[1;33m.\u001b[0m\u001b[0mmerge\u001b[0m\u001b[1;33m(\u001b[0m\u001b[0mdf_AV\u001b[0m\u001b[1;33m,\u001b[0m \u001b[0mdf_P\u001b[0m\u001b[1;33m,\u001b[0m \u001b[0mon\u001b[0m \u001b[1;33m=\u001b[0m \u001b[1;34m\"ProviderID\"\u001b[0m\u001b[1;33m)\u001b[0m\u001b[1;33m\u001b[0m\u001b[1;33m\u001b[0m\u001b[0m\n\u001b[0m\u001b[0;32m      2\u001b[0m \u001b[0mavpa\u001b[0m \u001b[1;33m=\u001b[0m \u001b[0mpd\u001b[0m\u001b[1;33m.\u001b[0m\u001b[0mmerge\u001b[0m\u001b[1;33m(\u001b[0m\u001b[0mdf_PA\u001b[0m\u001b[1;33m,\u001b[0m \u001b[0mPva\u001b[0m\u001b[1;33m,\u001b[0m \u001b[0mleft_on\u001b[0m\u001b[1;33m=\u001b[0m\u001b[1;34m\"PatientID\"\u001b[0m\u001b[1;33m,\u001b[0m \u001b[0mright_on\u001b[0m\u001b[1;33m=\u001b[0m\u001b[1;34m\"PatientMRN\"\u001b[0m\u001b[1;33m)\u001b[0m\u001b[1;33m\u001b[0m\u001b[1;33m\u001b[0m\u001b[0m\n\u001b[0;32m      3\u001b[0m avpa[(avpa.Gender == 'Male')\n\u001b[0;32m      4\u001b[0m     \u001b[1;33m&\u001b[0m \u001b[1;33m(\u001b[0m\u001b[0mavpa\u001b[0m\u001b[1;33m.\u001b[0m\u001b[0mDateOfBirth\u001b[0m\u001b[1;33m.\u001b[0m\u001b[0mdt\u001b[0m\u001b[1;33m.\u001b[0m\u001b[0myear\u001b[0m \u001b[1;33m<\u001b[0m \u001b[1;33m(\u001b[0m\u001b[0mdatetime\u001b[0m\u001b[1;33m.\u001b[0m\u001b[0mtoday\u001b[0m\u001b[1;33m(\u001b[0m\u001b[1;33m)\u001b[0m\u001b[1;33m.\u001b[0m\u001b[0myear\u001b[0m\u001b[1;33m-\u001b[0m\u001b[1;36m60\u001b[0m\u001b[1;33m)\u001b[0m\u001b[1;33m)\u001b[0m\u001b[1;33m\u001b[0m\u001b[1;33m\u001b[0m\u001b[0m\n\u001b[0;32m      5\u001b[0m     \u001b[1;33m&\u001b[0m \u001b[1;33m(\u001b[0m\u001b[0mavpa\u001b[0m\u001b[1;33m.\u001b[0m\u001b[0mProviderSpecialty\u001b[0m \u001b[1;33m==\u001b[0m \u001b[1;34m'Surgery'\u001b[0m\u001b[1;33m)\u001b[0m\u001b[1;33m\u001b[0m\u001b[1;33m\u001b[0m\u001b[0m\n",
      "\u001b[1;31mNameError\u001b[0m: name 'df_AV' is not defined"
     ]
    }
   ],
   "source": [
    "Pva = pd.merge(df_AV, df_P, on = \"ProviderID\")\n",
    "avpa = pd.merge(df_PA, Pva, left_on=\"PatientID\", right_on=\"PatientMRN\")\n",
    "avpa[(avpa.Gender == 'Male')\n",
    "    & (avpa.DateOfBirth.dt.year < (datetime.today().year-60))\n",
    "    & (avpa.ProviderSpecialty == 'Surgery')\n",
    "    & (avpa.DateScheduled.dt.year == 2019)\n",
    "    & (avpa.DateScheduled.dt.month >= 1)\n",
    "    & (avpa.DateScheduled.dt.month <= 3)]"
   ]
  },
  {
   "cell_type": "markdown",
   "id": "52764ed0",
   "metadata": {},
   "source": [
    "## 75.Using numpy functions, multiply the following arrays                     a=np.arange(6).reshape(2,3)                                                                            b=np.arange(6).reshape(3,2)"
   ]
  },
  {
   "cell_type": "code",
   "execution_count": 29,
   "id": "2accdcc2",
   "metadata": {},
   "outputs": [
    {
     "name": "stdout",
     "output_type": "stream",
     "text": [
      "result [[10 13]\n",
      " [28 40]]\n"
     ]
    }
   ],
   "source": [
    "\n",
    "a=np.arange(6).reshape(2,3)\n",
    "b=np.arange(6).reshape(3,2)\n",
    "outarr=np.dot(a,b)\n",
    "print(\"result\",outarr)"
   ]
  },
  {
   "cell_type": "markdown",
   "id": "317da136",
   "metadata": {},
   "source": [
    "  # #71.Find the count of White Spanish Male."
   ]
  },
  {
   "cell_type": "code",
   "execution_count": 87,
   "id": "48afa826",
   "metadata": {},
   "outputs": [
    {
     "data": {
      "text/plain": [
       "15"
      ]
     },
     "execution_count": 87,
     "metadata": {},
     "output_type": "execute_result"
    }
   ],
   "source": [
    "len (df_PA[(df_PA['Race']=='White') & (df_PA['Language']=='Spanish') & (df_PA['Gender']=='Male')])\n"
   ]
  },
  {
   "cell_type": "markdown",
   "id": "e8e4d129",
   "metadata": {},
   "source": [
    "# 77.Plot a graph to count the patients based on discharge disposition. "
   ]
  },
  {
   "cell_type": "code",
   "execution_count": 10,
   "id": "a63832fa",
   "metadata": {},
   "outputs": [
    {
     "data": {
      "text/plain": [
       "[Text(0, 0, '104'), Text(0, 0, '577'), Text(0, 0, '39')]"
      ]
     },
     "execution_count": 10,
     "metadata": {},
     "output_type": "execute_result"
    },
    {
     "data": {
      "image/png": "[encoded data removed]",
      "text/plain": [
       "<Figure size 640x480 with 1 Axes>"
      ]
     },
     "metadata": {},
     "output_type": "display_data"
    }
   ],
   "source": [
    "xls=pd.ExcelFile(\"HospitalDatabase.xlsx\")\n",
    "df_D = pd.read_excel(xls, 'Discharges')\n",
    "#plot the chart\n",
    "A=sns.countplot(data = df_D,x = 'DischargeDisposition')\n",
    "#assign labels\n",
    "A.bar_label(A.containers[0])"
   ]
  },
  {
   "cell_type": "markdown",
   "id": "63d1eba0",
   "metadata": {},
   "source": [
    "# #68.Calculate average LOS."
   ]
  },
  {
   "cell_type": "code",
   "execution_count": 11,
   "id": "28bcfc08",
   "metadata": {},
   "outputs": [
    {
     "name": "stdout",
     "output_type": "stream",
     "text": [
      "Average Length of Stay=\n",
      "8.824589159156156\n"
     ]
    }
   ],
   "source": [
    "df_RA = pd.read_excel(xls, 'ReAdmissionRegistry')\n",
    "#mean() calculates the average\n",
    "A=df_RA[\"ExpectedLOS\"].mean()\n",
    "print(\"Average Length of Stay=\")\n",
    "print(A)"
   ]
  },
  {
   "cell_type": "markdown",
   "id": "56218315",
   "metadata": {},
   "source": [
    "# #69.Number of patients on 'Transfer' based on primary diagnosis."
   ]
  },
  {
   "cell_type": "code",
   "execution_count": 12,
   "id": "b4259e02",
   "metadata": {},
   "outputs": [
    {
     "name": "stdout",
     "output_type": "stream",
     "text": [
      "Number Of Patients for Stroke : 9\n",
      "Number Of Patients for Heart Failure : 9\n",
      "Number Of Patients for Knee Replacement : 1\n",
      "Number Of Patients for Knee Replacement : 1\n",
      "Number Of Patients for Pneumonia : 1\n",
      "Number Of Patients for Pneumonia : 8\n"
     ]
    }
   ],
   "source": [
    "#Reading the ReAdmissionRegistry Sheet\n",
    "df_RA = pd.read_excel(xls, 'ReAdmissionRegistry')\n",
    "\n",
    "#creating a temporary dataframe with constraints of 'Transfer' and 'Stroke' as primary diagnosis\n",
    "temp_df1 = df_RA.loc[(df_RA['DischargeDisposition'] == 'Transfer') & (df_RA['PrimaryDiagnosis'] == 'Stroke')]\n",
    "print(\"%s%s\" % ('Number Of Patients for Stroke : ',  len(temp_df1.index)))\n",
    "\n",
    "#creating a temporary dataframe with constraints of 'Transfer' and 'Heart Failure' as primary diagnosis\n",
    "temp_df2 = df_RA.loc[(df_RA['DischargeDisposition'] == 'Transfer') & (df_RA['PrimaryDiagnosis']=='Heart Failure')]\n",
    "print(\"%s%s\" % ('Number Of Patients for Heart Failure : ',  len(temp_df2.index)))\n",
    "\n",
    "#creating a temporary dataframe with constraints of 'Transfer' and 'Knee Replacement' as primary diagnosis\n",
    "temp_df3 = df_RA.loc[(df_RA['DischargeDisposition'] == 'Transfer') & (df_RA['PrimaryDiagnosis'] == 'Knee Replacement')] \n",
    "print(\"%s%s\" % ('Number Of Patients for Knee Replacement : ',  len(temp_df3.index)))\n",
    "\n",
    "#creating a temporary dataframe with constraints of 'Transfer' and 'Laceration' as primary diagnosis\n",
    "temp_df4 = df_RA.loc[(df_RA['DischargeDisposition'] == 'Transfer') & (df_RA['PrimaryDiagnosis'] == 'Laceration')] \n",
    "print(\"%s%s\" % ('Number Of Patients for Knee Replacement : ',  len(temp_df4.index)))\n",
    "\n",
    "#creating a temporary dataframe with constraints of 'Transfer' and 'Pain' as primary diagnosis\n",
    "temp_df5 = df_RA.loc[(df_RA['DischargeDisposition'] == 'Transfer') & (df_RA['PrimaryDiagnosis'] == 'Pain')] \n",
    "print(\"%s%s\" % ('Number Of Patients for Pneumonia : ',  len(temp_df5.index)))\n",
    "\n",
    "#creating a temporary dataframe with constraints of 'Transfer' and 'Pneumonia' as primary diagnosis\n",
    "temp_df6 = df_RA.loc[(df_RA['DischargeDisposition'] == 'Transfer') & (df_RA['PrimaryDiagnosis'] == 'Pneumonia')] \n",
    "print(\"%s%s\" % ('Number Of Patients for Pneumonia : ',  len(temp_df6.index)))"
   ]
  },
  {
   "cell_type": "markdown",
   "id": "3a5e76d6",
   "metadata": {},
   "source": [
    "# #65.Plot a graph showing the count of patients for the reason visited the hospital."
   ]
  },
  {
   "cell_type": "code",
   "execution_count": 13,
   "id": "fd9d8630",
   "metadata": {},
   "outputs": [
    {
     "data": {
      "text/plain": [
       "[Text(0, 0, '411.118'),\n",
       " Text(0, 0, '406.981'),\n",
       " Text(0, 0, '400.018'),\n",
       " Text(0, 0, '392.871'),\n",
       " Text(0, 0, '389.706'),\n",
       " Text(0, 0, '409.045'),\n",
       " Text(0, 0, '398.103'),\n",
       " Text(0, 0, '404.832'),\n",
       " Text(0, 0, '397.312'),\n",
       " Text(0, 0, '447.538'),\n",
       " Text(0, 0, '387.5'),\n",
       " Text(0, 0, '425'),\n",
       " Text(0, 0, '90')]"
      ]
     },
     "execution_count": 13,
     "metadata": {},
     "output_type": "execute_result"
    },
    {
     "data": {
      "image/png": "[encoded data removed]",
      "text/plain": [
       "<Figure size 640x480 with 1 Axes>"
      ]
     },
     "metadata": {},
     "output_type": "display_data"
    }
   ],
   "source": [
    "#Reading the EDVisits sheet\n",
    "df_EDV= pd.read_excel(xls, 'EDVisits')\n",
    "df_EDV['NumberOfPatients'] = 1\n",
    "df_EDV.groupby(['ReasonForVisit'])['NumberOfPatients'].count().reset_index()\n",
    "#plot the bar chart\n",
    "A = sns.barplot(data=df_EDV,x='PatientID', y= 'ReasonForVisit', errwidth=0)\n",
    "#assign labels\n",
    "A.bar_label(A.containers[0])"
   ]
  },
  {
   "cell_type": "markdown",
   "id": "fb03b9b4",
   "metadata": {},
   "source": [
    "# #79.Create a pivot table displaying average LOS based on Service and Primary Diagnosis."
   ]
  },
  {
   "cell_type": "code",
   "execution_count": 14,
   "id": "b287b92a",
   "metadata": {},
   "outputs": [
    {
     "name": "stdout",
     "output_type": "stream",
     "text": [
      "                                     diff_days\n",
      "Service          PrimaryDiagnosis             \n",
      "Cardiology       AMI                 10.743253\n",
      "                 Afib                11.696580\n",
      "                 Broken Leg          10.947355\n",
      "                 Flu                 12.422469\n",
      "                 Heart Failure        9.939645\n",
      "                 Kidney Failure       4.677856\n",
      "General Medicine Broken Leg          13.251505\n",
      "                 Diabetes            10.836104\n",
      "                 Fever                8.469869\n",
      "                 Flu                 10.418172\n",
      "                 Hypertension         9.487165\n",
      "                 Kidney Failure      11.190868\n",
      "                 Laceration           9.951947\n",
      "                 Pneumonia            9.884497\n",
      "                 Stroke              11.760999\n",
      "Hospitalist      AMI                 10.021201\n",
      "                 Broken Leg           8.276967\n",
      "                 Diabetes             9.323806\n",
      "                 Fever               10.910405\n",
      "                 Flu                  9.211840\n",
      "                 Hypertension        11.330291\n",
      "                 Kidney Failure      10.610999\n",
      "                 Knee Replacement     6.694655\n",
      "                 Laceration           9.567508\n",
      "                 Pneumonia            9.451372\n",
      "                 Stroke              16.592635\n",
      "ICU              AMI                 12.624681\n",
      "                 Afib                 6.929579\n",
      "                 Fever               13.924556\n",
      "                 Flu                  8.409505\n",
      "                 Heart Failure        9.941685\n",
      "                 Hypertension         8.836639\n",
      "                 Kidney Failure      11.564725\n",
      "                 Laceration          15.290830\n",
      "                 Pneumonia            8.739771\n",
      "                 Spinal Cord Injury  10.587850\n",
      "                 Stroke              10.930269\n",
      "Neurology        AMI                  9.328957\n",
      "                 Flu                  7.803995\n",
      "                 Heart Failure       13.615608\n",
      "                 Hypertension         9.775038\n",
      "                 Migraine             9.013517\n",
      "                 Pain                10.894707\n",
      "                 Pneumonia           10.173193\n",
      "                 Stroke              10.013667\n",
      "Orthopeadics     Hip Fracture         9.730941\n",
      "                 Knee Replacement     9.911915\n"
     ]
    }
   ],
   "source": [
    "#Reading the Discharges sheet\n",
    "df_D = pd.read_excel(xls, 'Discharges')\n",
    "\n",
    "df_D['diff_days'] = (df_D['DischargeDate'] - df_D['AdmissionDate']) / np.timedelta64(1, 'D')\n",
    "\n",
    "pivot = df_D.pivot_table(index=['Service', 'PrimaryDiagnosis'], values=['diff_days'], aggfunc='mean')\n",
    "print(pivot)"
   ]
  },
  {
   "cell_type": "markdown",
   "id": "103954d7",
   "metadata": {},
   "source": [
    "# #78.Display total count of patients service wise based on gender."
   ]
  },
  {
   "cell_type": "code",
   "execution_count": 15,
   "id": "891c2362",
   "metadata": {},
   "outputs": [
    {
     "name": "stdout",
     "output_type": "stream",
     "text": [
      "                         PatientID\n",
      "Service          Gender           \n",
      "Cardiology       Female         41\n",
      "                 Male           54\n",
      "General Medicine Female        114\n",
      "                 Male          149\n",
      "Hospitalist      Female         35\n",
      "                 Male           66\n",
      "ICU              Female         65\n",
      "                 Male           86\n",
      "Neurology        Female         34\n",
      "                 Male           31\n",
      "Orthopeadics     Female         22\n",
      "                 Male           23\n"
     ]
    }
   ],
   "source": [
    "df_D = pd.read_excel(xls, 'Discharges')\n",
    "\n",
    "#Reading the Patients sheet\n",
    "df_PA = pd.read_excel(xls, 'Patients')\n",
    "\n",
    "df_new_D = df_D[['PatientID', 'Service']]\n",
    "#df_new_D\n",
    "\n",
    "df_new_P = df_PA[['PatientID', 'Gender']]\n",
    "#df_new_P\n",
    "\n",
    "result =  pd.merge(df_new_D, df_new_P)\n",
    "\n",
    "\n",
    "#display(result)\n",
    "headers =  [\"PatientID\", \"Service\",\"Gender\"]\n",
    "display.columns = headers\n",
    "#display\n",
    "\n",
    "\n",
    "pivot = result.pivot_table(index=['Service','Gender'], values=['PatientID'], aggfunc='count')\n",
    "print(pivot)"
   ]
  },
  {
   "cell_type": "markdown",
   "id": "c37dfc08",
   "metadata": {},
   "source": [
    "# #64.Create a dataframe by splitting provider name to firstname and lastname with names for the columns."
   ]
  },
  {
   "cell_type": "code",
   "execution_count": 16,
   "id": "5404fd40",
   "metadata": {},
   "outputs": [
    {
     "data": {
      "text/html": [
       "<div>\n",
       "<style scoped>\n",
       "    .dataframe tbody tr th:only-of-type {\n",
       "        vertical-align: middle;\n",
       "    }\n",
       "\n",
       "    .dataframe tbody tr th {\n",
       "        vertical-align: top;\n",
       "    }\n",
       "\n",
       "    .dataframe thead th {\n",
       "        text-align: right;\n",
       "    }\n",
       "</style>\n",
       "<table border=\"1\" class=\"dataframe\">\n",
       "  <thead>\n",
       "    <tr style=\"text-align: right;\">\n",
       "      <th></th>\n",
       "      <th>First Name</th>\n",
       "      <th>Last Name</th>\n",
       "    </tr>\n",
       "  </thead>\n",
       "  <tbody>\n",
       "    <tr>\n",
       "      <th>0</th>\n",
       "      <td>Sally</td>\n",
       "      <td>Sue</td>\n",
       "    </tr>\n",
       "    <tr>\n",
       "      <th>1</th>\n",
       "      <td>Mike</td>\n",
       "      <td>Myers</td>\n",
       "    </tr>\n",
       "    <tr>\n",
       "      <th>2</th>\n",
       "      <td>Jordan</td>\n",
       "      <td>Michael</td>\n",
       "    </tr>\n",
       "    <tr>\n",
       "      <th>3</th>\n",
       "      <td>Ted</td>\n",
       "      <td>Texas</td>\n",
       "    </tr>\n",
       "    <tr>\n",
       "      <th>4</th>\n",
       "      <td>Ala</td>\n",
       "      <td>Bama</td>\n",
       "    </tr>\n",
       "    <tr>\n",
       "      <th>5</th>\n",
       "      <td>Harry</td>\n",
       "      <td>Kane</td>\n",
       "    </tr>\n",
       "    <tr>\n",
       "      <th>6</th>\n",
       "      <td>Barry</td>\n",
       "      <td>Bar</td>\n",
       "    </tr>\n",
       "    <tr>\n",
       "      <th>7</th>\n",
       "      <td>Ted</td>\n",
       "      <td>Green</td>\n",
       "    </tr>\n",
       "    <tr>\n",
       "      <th>8</th>\n",
       "      <td>Ted</td>\n",
       "      <td>Black</td>\n",
       "    </tr>\n",
       "    <tr>\n",
       "      <th>9</th>\n",
       "      <td>Fred</td>\n",
       "      <td>Man</td>\n",
       "    </tr>\n",
       "    <tr>\n",
       "      <th>10</th>\n",
       "      <td>Kim</td>\n",
       "      <td>Kimberly</td>\n",
       "    </tr>\n",
       "    <tr>\n",
       "      <th>11</th>\n",
       "      <td>Sarah</td>\n",
       "      <td>Ab</td>\n",
       "    </tr>\n",
       "    <tr>\n",
       "      <th>12</th>\n",
       "      <td>Abigail</td>\n",
       "      <td>Marriot</td>\n",
       "    </tr>\n",
       "    <tr>\n",
       "      <th>13</th>\n",
       "      <td>Dave</td>\n",
       "      <td>Yu</td>\n",
       "    </tr>\n",
       "    <tr>\n",
       "      <th>14</th>\n",
       "      <td>Christian</td>\n",
       "      <td>Saint</td>\n",
       "    </tr>\n",
       "    <tr>\n",
       "      <th>15</th>\n",
       "      <td>Perry</td>\n",
       "      <td>Pardon</td>\n",
       "    </tr>\n",
       "    <tr>\n",
       "      <th>16</th>\n",
       "      <td>Kent</td>\n",
       "      <td>Kendall</td>\n",
       "    </tr>\n",
       "    <tr>\n",
       "      <th>17</th>\n",
       "      <td>Ryan</td>\n",
       "      <td>Kevin</td>\n",
       "    </tr>\n",
       "    <tr>\n",
       "      <th>18</th>\n",
       "      <td>Tyler</td>\n",
       "      <td>Conner</td>\n",
       "    </tr>\n",
       "    <tr>\n",
       "      <th>19</th>\n",
       "      <td>Bailey</td>\n",
       "      <td>Barret</td>\n",
       "    </tr>\n",
       "    <tr>\n",
       "      <th>20</th>\n",
       "      <td>Megan</td>\n",
       "      <td>Bonco</td>\n",
       "    </tr>\n",
       "    <tr>\n",
       "      <th>21</th>\n",
       "      <td>Joesph</td>\n",
       "      <td>Walter</td>\n",
       "    </tr>\n",
       "    <tr>\n",
       "      <th>22</th>\n",
       "      <td>Walter</td>\n",
       "      <td>King</td>\n",
       "    </tr>\n",
       "    <tr>\n",
       "      <th>23</th>\n",
       "      <td>Luke</td>\n",
       "      <td>Long</td>\n",
       "    </tr>\n",
       "    <tr>\n",
       "      <th>24</th>\n",
       "      <td>Justin</td>\n",
       "      <td>Time</td>\n",
       "    </tr>\n",
       "    <tr>\n",
       "      <th>25</th>\n",
       "      <td>Mike</td>\n",
       "      <td>Joseph</td>\n",
       "    </tr>\n",
       "    <tr>\n",
       "      <th>26</th>\n",
       "      <td>Bridget</td>\n",
       "      <td>Brenda</td>\n",
       "    </tr>\n",
       "    <tr>\n",
       "      <th>27</th>\n",
       "      <td>Brenda</td>\n",
       "      <td>Bing</td>\n",
       "    </tr>\n",
       "    <tr>\n",
       "      <th>28</th>\n",
       "      <td>Chandler</td>\n",
       "      <td>Bing</td>\n",
       "    </tr>\n",
       "    <tr>\n",
       "      <th>29</th>\n",
       "      <td>Joesph</td>\n",
       "      <td>Ross</td>\n",
       "    </tr>\n",
       "    <tr>\n",
       "      <th>30</th>\n",
       "      <td>Dwight</td>\n",
       "      <td>Scott</td>\n",
       "    </tr>\n",
       "    <tr>\n",
       "      <th>31</th>\n",
       "      <td>Michael</td>\n",
       "      <td>Halpert</td>\n",
       "    </tr>\n",
       "    <tr>\n",
       "      <th>32</th>\n",
       "      <td>Pamela</td>\n",
       "      <td>Ding</td>\n",
       "    </tr>\n",
       "    <tr>\n",
       "      <th>33</th>\n",
       "      <td>Tony</td>\n",
       "      <td>Creed</td>\n",
       "    </tr>\n",
       "    <tr>\n",
       "      <th>34</th>\n",
       "      <td>Phyllis</td>\n",
       "      <td>Stanley</td>\n",
       "    </tr>\n",
       "    <tr>\n",
       "      <th>35</th>\n",
       "      <td>Holly</td>\n",
       "      <td>Hue</td>\n",
       "    </tr>\n",
       "    <tr>\n",
       "      <th>36</th>\n",
       "      <td>Trent</td>\n",
       "      <td>Tye</td>\n",
       "    </tr>\n",
       "    <tr>\n",
       "      <th>37</th>\n",
       "      <td>Kimberly</td>\n",
       "      <td>Cone</td>\n",
       "    </tr>\n",
       "    <tr>\n",
       "      <th>38</th>\n",
       "      <td>Harry</td>\n",
       "      <td>West</td>\n",
       "    </tr>\n",
       "    <tr>\n",
       "      <th>39</th>\n",
       "      <td>Rosie</td>\n",
       "      <td>Renter</td>\n",
       "    </tr>\n",
       "  </tbody>\n",
       "</table>\n",
       "</div>"
      ],
      "text/plain": [
       "   First Name Last Name\n",
       "0       Sally       Sue\n",
       "1        Mike     Myers\n",
       "2      Jordan   Michael\n",
       "3         Ted     Texas\n",
       "4         Ala      Bama\n",
       "5       Harry      Kane\n",
       "6       Barry       Bar\n",
       "7         Ted     Green\n",
       "8         Ted     Black\n",
       "9        Fred       Man\n",
       "10        Kim  Kimberly\n",
       "11      Sarah        Ab\n",
       "12    Abigail   Marriot\n",
       "13       Dave        Yu\n",
       "14  Christian     Saint\n",
       "15      Perry    Pardon\n",
       "16       Kent   Kendall\n",
       "17       Ryan     Kevin\n",
       "18      Tyler    Conner\n",
       "19     Bailey    Barret\n",
       "20      Megan     Bonco\n",
       "21     Joesph    Walter\n",
       "22     Walter      King\n",
       "23       Luke      Long\n",
       "24     Justin      Time\n",
       "25       Mike    Joseph\n",
       "26    Bridget    Brenda\n",
       "27     Brenda      Bing\n",
       "28   Chandler      Bing\n",
       "29     Joesph      Ross\n",
       "30     Dwight     Scott\n",
       "31    Michael   Halpert\n",
       "32     Pamela      Ding\n",
       "33       Tony     Creed\n",
       "34    Phyllis   Stanley\n",
       "35      Holly       Hue\n",
       "36      Trent       Tye\n",
       "37   Kimberly      Cone\n",
       "38      Harry      West\n",
       "39      Rosie    Renter"
      ]
     },
     "execution_count": 16,
     "metadata": {},
     "output_type": "execute_result"
    }
   ],
   "source": [
    "#Reading the Providers sheet\n",
    "df_P= pd.read_excel(xls, 'Providers')\n",
    "\n",
    "   \n",
    "df_new = df_P['ProviderName'].str.split(expand=True)\n",
    "# adding headers to column in data frame \n",
    "headers =  [\"First Name\", \"Last Name\"]\n",
    "df_new.columns = headers\n",
    "df_new "
   ]
  },
  {
   "cell_type": "markdown",
   "id": "384d1ba3",
   "metadata": {},
   "source": [
    "# #67.Make a pivot table by the no. of patients from the admission date till discharge date."
   ]
  },
  {
   "cell_type": "code",
   "execution_count": 27,
   "id": "c09ec1c5",
   "metadata": {},
   "outputs": [
    {
     "data": {
      "text/html": [
       "<div>\n",
       "<style scoped>\n",
       "    .dataframe tbody tr th:only-of-type {\n",
       "        vertical-align: middle;\n",
       "    }\n",
       "\n",
       "    .dataframe tbody tr th {\n",
       "        vertical-align: top;\n",
       "    }\n",
       "\n",
       "    .dataframe thead th {\n",
       "        text-align: right;\n",
       "    }\n",
       "</style>\n",
       "<table border=\"1\" class=\"dataframe\">\n",
       "  <thead>\n",
       "    <tr style=\"text-align: right;\">\n",
       "      <th></th>\n",
       "      <th></th>\n",
       "      <th>PatientID</th>\n",
       "    </tr>\n",
       "    <tr>\n",
       "      <th>AdmissionDate</th>\n",
       "      <th>_DischargeDate</th>\n",
       "      <th></th>\n",
       "    </tr>\n",
       "  </thead>\n",
       "  <tbody>\n",
       "    <tr>\n",
       "      <th rowspan=\"5\" valign=\"top\">2018-01-01</th>\n",
       "      <th>2018-01-04</th>\n",
       "      <td>3</td>\n",
       "    </tr>\n",
       "    <tr>\n",
       "      <th>2018-01-05</th>\n",
       "      <td>2</td>\n",
       "    </tr>\n",
       "    <tr>\n",
       "      <th>2018-01-06</th>\n",
       "      <td>1</td>\n",
       "    </tr>\n",
       "    <tr>\n",
       "      <th>2018-01-07</th>\n",
       "      <td>3</td>\n",
       "    </tr>\n",
       "    <tr>\n",
       "      <th>2018-01-08</th>\n",
       "      <td>1</td>\n",
       "    </tr>\n",
       "    <tr>\n",
       "      <th>...</th>\n",
       "      <th>...</th>\n",
       "      <td>...</td>\n",
       "    </tr>\n",
       "    <tr>\n",
       "      <th rowspan=\"5\" valign=\"top\">2018-02-22</th>\n",
       "      <th>2018-03-05</th>\n",
       "      <td>1</td>\n",
       "    </tr>\n",
       "    <tr>\n",
       "      <th>2018-03-06</th>\n",
       "      <td>1</td>\n",
       "    </tr>\n",
       "    <tr>\n",
       "      <th>2018-03-07</th>\n",
       "      <td>4</td>\n",
       "    </tr>\n",
       "    <tr>\n",
       "      <th>2018-03-08</th>\n",
       "      <td>2</td>\n",
       "    </tr>\n",
       "    <tr>\n",
       "      <th>2018-03-10</th>\n",
       "      <td>2</td>\n",
       "    </tr>\n",
       "  </tbody>\n",
       "</table>\n",
       "<p>459 rows × 1 columns</p>\n",
       "</div>"
      ],
      "text/plain": [
       "                              PatientID\n",
       "AdmissionDate _DischargeDate           \n",
       "2018-01-01    2018-01-04              3\n",
       "              2018-01-05              2\n",
       "              2018-01-06              1\n",
       "              2018-01-07              3\n",
       "              2018-01-08              1\n",
       "...                                 ...\n",
       "2018-02-22    2018-03-05              1\n",
       "              2018-03-06              1\n",
       "              2018-03-07              4\n",
       "              2018-03-08              2\n",
       "              2018-03-10              2\n",
       "\n",
       "[459 rows x 1 columns]"
      ]
     },
     "execution_count": 27,
     "metadata": {},
     "output_type": "execute_result"
    }
   ],
   "source": [
    " df_RE=pd.read_excel(xls,'ReAdmissionRegistry')\n",
    "df_RE['_DischargeDate'] = df_RE['DischargeDate'].dt.date\n",
    "pd.pivot_table(df_RE, index=['AdmissionDate', '_DischargeDate'], values='PatientID', aggfunc='count')"
   ]
  },
  {
   "cell_type": "markdown",
   "id": "10702722",
   "metadata": {},
   "source": [
    "# #72.Which PrimaryDiagnosis has the biggest difference between maximum and minimum Expected LOS?"
   ]
  },
  {
   "cell_type": "code",
   "execution_count": 28,
   "id": "21698ba3",
   "metadata": {},
   "outputs": [
    {
     "data": {
      "text/plain": [
       "'Pneumonia'"
      ]
     },
     "execution_count": 28,
     "metadata": {},
     "output_type": "execute_result"
    }
   ],
   "source": [
    "df_D.groupby('PrimaryDiagnosis')['ExpectedLOS'].agg(np.ptp).idxmax()"
   ]
  },
  {
   "cell_type": "markdown",
   "id": "b41c9f5d",
   "metadata": {},
   "source": [
    "# #70.Violin plot for Level of Acuity by Visit Reason "
   ]
  },
  {
   "cell_type": "code",
   "execution_count": 18,
   "id": "c3871b91",
   "metadata": {},
   "outputs": [
    {
     "data": {
      "image/png": "[encoded data removed]",
      "text/plain": [
       "<Figure size 640x480 with 1 Axes>"
      ]
     },
     "metadata": {},
     "output_type": "display_data"
    }
   ],
   "source": [
    "xls=pd.ExcelFile(\"HospitalDatabase.xlsx\")\n",
    "df_EDV= pd.read_excel(xls, 'EDVisits')\n",
    "sns.violinplot(data=df_EDV,x='Acuity', y= 'ReasonForVisit', size=0)\n",
    "plt.show()"
   ]
  },
  {
   "cell_type": "markdown",
   "id": "17e3221d",
   "metadata": {},
   "source": [
    "# #62.Create a dataframe with acuity and EDDisposition as the indices and the count of number of patients as the value."
   ]
  },
  {
   "cell_type": "code",
   "execution_count": 6,
   "id": "37847d74",
   "metadata": {},
   "outputs": [
    {
     "name": "stdout",
     "output_type": "stream",
     "text": [
      "Original Dataframe with index changed:\n",
      "                       PatientID\n",
      "Acuity EDDisposition           \n",
      "1      Admitted               1\n",
      "2      Admitted              12\n",
      "3      Admitted              13\n",
      "       Admitted              14\n",
      "       Admitted              15\n",
      "...                         ...\n",
      "4      Discharged           929\n",
      "1      Discharged           932\n",
      "       Discharged           933\n",
      "       Discharged           934\n",
      "       Discharged           935\n",
      "\n",
      "[1199 rows x 1 columns]\n",
      "Modified DataFrame:\n",
      "                       PatientID  count\n",
      "Acuity EDDisposition                  \n",
      "1      Admitted               1      3\n",
      "2      Admitted              12      2\n",
      "3      Admitted              13      2\n",
      "       Admitted              14      2\n",
      "       Admitted              15      2\n",
      "...                         ...    ...\n",
      "4      Discharged           929      1\n",
      "1      Discharged           932      1\n",
      "       Discharged           933      1\n",
      "       Discharged           934      1\n",
      "       Discharged           935      1\n",
      "\n",
      "[1199 rows x 2 columns]\n"
     ]
    }
   ],
   "source": [
    "xls=pd.ExcelFile(\"HospitalDatabase.xlsx\")\n",
    "#Read EDVisits sheet with selected columns\n",
    "df_EDV= pd.read_excel(xls, 'EDVisits',usecols=['Acuity', 'EDDisposition','PatientID'])\n",
    "\n",
    "#set the index to the 2 columns\n",
    "df_EDV = df_EDV.set_index(['Acuity','EDDisposition'])\n",
    "\n",
    "#To show the indices as acuity and EDDisposition\n",
    "print(\"Original Dataframe with index changed:\\n\",df_EDV)\n",
    "\n",
    "#count of number of patients as value\n",
    "df_EDV['count'] = df_EDV.groupby(['PatientID'])['PatientID'].transform('count')\n",
    "\n",
    "#Display modified DataFrame\n",
    "print(\"Modified DataFrame:\\n\",df_EDV)"
   ]
  },
  {
   "cell_type": "code",
   "execution_count": null,
   "id": "221da63c",
   "metadata": {},
   "outputs": [],
   "source": []
  },
  {
   "cell_type": "code",
   "execution_count": null,
   "id": "f7bd8ece",
   "metadata": {},
   "outputs": [],
   "source": []
  }
 ],
 "metadata": {
  "kernelspec": {
   "display_name": "Python 3 (ipykernel)",
   "language": "python",
   "name": "python3"
  },
  "language_info": {
   "codemirror_mode": {
    "name": "ipython",
    "version": 3
   },
   "file_extension": ".py",
   "mimetype": "text/x-python",
   "name": "python",
   "nbconvert_exporter": "python",
   "pygments_lexer": "ipython3",
   "version": "3.9.13"
  }
 },
 "nbformat": 4,
 "nbformat_minor": 5
}
